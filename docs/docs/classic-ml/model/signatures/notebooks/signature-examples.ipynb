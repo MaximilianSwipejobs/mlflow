{
 "cells": [
  {
   "cell_type": "markdown",
   "metadata": {},
   "source": [
    "# MLflow Model Signatures Example\n",
    "\n",
    "This is a minimal notebook with examples of MLflow model signatures."
   ]
  },
  {
   "cell_type": "code",
   "execution_count": null,
   "metadata": {},
   "outputs": [],
   "source": [
    "# Import common libraries\n",
    "import mlflow\n",
    "from mlflow.models.signature import ModelSignature\n",
    "from mlflow.types import ColSpec, DataType, Schema"
   ]
  },
  {
   "cell_type": "code",
   "execution_count": null,
   "metadata": {},
   "outputs": [],
   "source": [
    "# Define a basic signature\n",
    "input_schema = Schema([ColSpec(DataType.double, \"feature1\"), ColSpec(DataType.double, \"feature2\")])\n",
    "\n",
    "output_schema = Schema([ColSpec(DataType.double, \"prediction\")])\n",
    "\n",
    "signature = ModelSignature(inputs=input_schema, outputs=output_schema)"
   ]
  },
  {
   "cell_type": "code",
   "execution_count": null,
   "metadata": {},
   "outputs": [],
   "source": [
    "# Example of logging a model with a signature\n",
    "with mlflow.start_run():\n",
    "    # Create a dummy model (a simple dictionary in this case)\n",
    "    model = {\"name\": \"dummy_model\"}\n",
    "\n",
    "    # Log the model with the signature\n",
    "    mlflow.pyfunc.log_model(name=\"model\", python_model=model, signature=signature)"
   ]
  }
 ],
 "metadata": {
  "kernelspec": {
   "display_name": "Python 3",
   "language": "python",
   "name": "python3"
  },
  "language_info": {
   "codemirror_mode": {
    "name": "ipython",
    "version": 3
   },
   "file_extension": ".py",
   "mimetype": "text/x-python",
   "name": "python",
   "nbconvert_exporter": "python",
   "pygments_lexer": "ipython3",
   "version": "3.8.13"
  }
 },
 "nbformat": 4,
 "nbformat_minor": 4
}