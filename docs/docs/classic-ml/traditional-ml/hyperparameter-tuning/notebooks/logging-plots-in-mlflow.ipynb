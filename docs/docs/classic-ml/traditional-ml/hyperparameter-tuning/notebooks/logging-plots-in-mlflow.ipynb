{
 "cells": [
  {
   "cell_type": "markdown",
   "metadata": {},
   "source": [
    "# Logging Plots in MLflow\n",
    "\n",
    "This is a minimal notebook demonstrating how to log plots in MLflow."
   ]
  },
  {
   "cell_type": "code",
   "execution_count": null,
   "metadata": {},
   "outputs": [],
   "source": [
    "# Import common libraries\n",
    "import matplotlib.pyplot as plt\n",
    "import numpy as np\n",
    "import seaborn as sns\n",
    "from sklearn.datasets import load_iris\n",
    "from sklearn.ensemble import RandomForestClassifier\n",
    "from sklearn.metrics import confusion_matrix\n",
    "from sklearn.model_selection import train_test_split\n",
    "\n",
    "import mlflow"
   ]
  },
  {
   "cell_type": "code",
   "execution_count": null,
   "metadata": {},
   "outputs": [],
   "source": [
    "# Load data\n",
    "iris = load_iris()\n",
    "X, y = iris.data, iris.target\n",
    "X_train, X_test, y_train, y_test = train_test_split(X, y, test_size=0.2, random_state=42)"
   ]
  },
  {
   "cell_type": "code",
   "execution_count": null,
   "metadata": {},
   "outputs": [],
   "source": [
    "# Train a model\n",
    "model = RandomForestClassifier(n_estimators=100, random_state=42)\n",
    "model.fit(X_train, y_train)\n",
    "y_pred = model.predict(X_test)\n",
    "y_prob = model.predict_proba(X_test)"
   ]
  },
  {
   "cell_type": "code",
   "execution_count": null,
   "metadata": {},
   "outputs": [],
   "source": [
    "# Create and log plots with MLflow\n",
    "with mlflow.start_run():\n",
    "    # Log model parameters\n",
    "    mlflow.log_param(\"n_estimators\", 100)\n",
    "\n",
    "    # Create and log confusion matrix\n",
    "    plt.figure(figsize=(8, 6))\n",
    "    cm = confusion_matrix(y_test, y_pred)\n",
    "    sns.heatmap(cm, annot=True, fmt=\"d\", cmap=\"Blues\")\n",
    "    plt.title(\"Confusion Matrix\")\n",
    "    plt.xlabel(\"Predicted\")\n",
    "    plt.ylabel(\"True\")\n",
    "\n",
    "    # Save figure to a temporary file and log it\n",
    "    plt.savefig(\"/tmp/confusion_matrix.png\")\n",
    "    mlflow.log_artifact(\"/tmp/confusion_matrix.png\")\n",
    "    plt.close()\n",
    "\n",
    "    # Create and log feature importance plot\n",
    "    plt.figure(figsize=(10, 6))\n",
    "    feature_importance = model.feature_importances_\n",
    "    sorted_idx = np.argsort(feature_importance)\n",
    "    plt.barh(range(len(sorted_idx)), feature_importance[sorted_idx])\n",
    "    plt.yticks(range(len(sorted_idx)), np.array(iris.feature_names)[sorted_idx])\n",
    "    plt.title(\"Feature Importance\")\n",
    "\n",
    "    # Save and log feature importance\n",
    "    plt.savefig(\"/tmp/feature_importance.png\")\n",
    "    mlflow.log_artifact(\"/tmp/feature_importance.png\")\n",
    "    plt.close()"
   ]
  }
 ],
 "metadata": {
  "kernelspec": {
   "display_name": "Python 3",
   "language": "python",
   "name": "python3"
  },
  "language_info": {
   "codemirror_mode": {
    "name": "ipython",
    "version": 3
   },
   "file_extension": ".py",
   "mimetype": "text/x-python",
   "name": "python",
   "nbconvert_exporter": "python",
   "pygments_lexer": "ipython3",
   "version": "3.8.13"
  }
 },
 "nbformat": 4,
 "nbformat_minor": 4
}