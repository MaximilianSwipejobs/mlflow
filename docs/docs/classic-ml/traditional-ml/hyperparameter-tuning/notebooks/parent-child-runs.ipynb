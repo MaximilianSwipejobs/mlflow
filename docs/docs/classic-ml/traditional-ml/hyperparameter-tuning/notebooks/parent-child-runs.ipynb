{
 "cells": [
  {
   "cell_type": "markdown",
   "metadata": {},
   "source": [
    "# Parent-Child Runs in MLflow\n",
    "\n",
    "This is a minimal notebook demonstrating parent-child runs in MLflow."
   ]
  },
  {
   "cell_type": "code",
   "execution_count": null,
   "metadata": {},
   "outputs": [],
   "source": [
    "# Import common libraries\n",
    "from sklearn.datasets import load_iris\n",
    "from sklearn.ensemble import RandomForestClassifier\n",
    "from sklearn.linear_model import LogisticRegression\n",
    "from sklearn.model_selection import train_test_split\n",
    "from sklearn.svm import SVC\n",
    "\n",
    "import mlflow"
   ]
  },
  {
   "cell_type": "code",
   "execution_count": null,
   "metadata": {},
   "outputs": [],
   "source": [
    "# Load data\n",
    "iris = load_iris()\n",
    "X, y = iris.data, iris.target\n",
    "X_train, X_test, y_train, y_test = train_test_split(X, y, test_size=0.2, random_state=42)"
   ]
  },
  {
   "cell_type": "code",
   "execution_count": null,
   "metadata": {},
   "outputs": [],
   "source": [
    "# Define models to compare\n",
    "models = {\n",
    "    \"RandomForest\": RandomForestClassifier(random_state=42),\n",
    "    \"LogisticRegression\": LogisticRegression(random_state=42, max_iter=200),\n",
    "    \"SVM\": SVC(random_state=42, probability=True),\n",
    "}"
   ]
  },
  {
   "cell_type": "code",
   "execution_count": null,
   "metadata": {},
   "outputs": [],
   "source": [
    "# Parent run to compare multiple models\n",
    "with mlflow.start_run(run_name=\"parent_model_comparison\") as parent_run:\n",
    "    parent_run_id = parent_run.info.run_id\n",
    "    mlflow.log_param(\"dataset\", \"iris\")\n",
    "    mlflow.log_param(\"test_size\", 0.2)\n",
    "\n",
    "    best_accuracy = 0\n",
    "    best_model = None\n",
    "\n",
    "    # Child runs for each model\n",
    "    for model_name, model in models.items():\n",
    "        with mlflow.start_run(run_name=f\"child_{model_name}\", nested=True) as child_run:\n",
    "            # Log model info\n",
    "            mlflow.log_param(\"model_type\", model_name)\n",
    "\n",
    "            # Train and evaluate\n",
    "            model.fit(X_train, y_train)\n",
    "            accuracy = model.score(X_test, y_test)\n",
    "\n",
    "            # Log metrics\n",
    "            mlflow.log_metric(\"accuracy\", accuracy)\n",
    "\n",
    "            # Track best model\n",
    "            if accuracy > best_accuracy:\n",
    "                best_accuracy = accuracy\n",
    "                best_model = model_name\n",
    "\n",
    "    # Log best model in parent run\n",
    "    mlflow.log_param(\"best_model\", best_model)\n",
    "    mlflow.log_metric(\"best_accuracy\", best_accuracy)"
   ]
  }
 ],
 "metadata": {
  "kernelspec": {
   "display_name": "Python 3",
   "language": "python",
   "name": "python3"
  },
  "language_info": {
   "codemirror_mode": {
    "name": "ipython",
    "version": 3
   },
   "file_extension": ".py",
   "mimetype": "text/x-python",
   "name": "python",
   "nbconvert_exporter": "python",
   "pygments_lexer": "ipython3",
   "version": "3.8.13"
  }
 },
 "nbformat": 4,
 "nbformat_minor": 4
}