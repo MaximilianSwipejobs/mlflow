{
 "cells": [
  {
   "cell_type": "markdown",
   "metadata": {},
   "source": [
    "# MLflow Multiple Model Ensemble Tutorial\n",
    "\n",
    "This is a minimal notebook demonstrating how to create and log multiple model ensembles in MLflow."
   ]
  },
  {
   "cell_type": "code",
   "execution_count": null,
   "metadata": {},
   "outputs": [],
   "source": [
    "# Import common libraries\n",
    "import numpy as np\n",
    "from sklearn.datasets import load_iris\n",
    "from sklearn.ensemble import RandomForestClassifier\n",
    "from sklearn.linear_model import LogisticRegression\n",
    "from sklearn.model_selection import train_test_split\n",
    "\n",
    "import mlflow\n",
    "from mlflow.pyfunc import PythonModel"
   ]
  },
  {
   "cell_type": "code",
   "execution_count": null,
   "metadata": {},
   "outputs": [],
   "source": [
    "# Load data\n",
    "iris = load_iris()\n",
    "X, y = iris.data, iris.target\n",
    "X_train, X_test, y_train, y_test = train_test_split(X, y, test_size=0.2, random_state=42)"
   ]
  },
  {
   "cell_type": "code",
   "execution_count": null,
   "metadata": {},
   "outputs": [],
   "source": [
    "# Train individual models\n",
    "rf_model = RandomForestClassifier(n_estimators=100, random_state=42)\n",
    "rf_model.fit(X_train, y_train)\n",
    "\n",
    "lr_model = LogisticRegression(random_state=42, max_iter=200)\n",
    "lr_model.fit(X_train, y_train)"
   ]
  },
  {
   "cell_type": "code",
   "execution_count": null,
   "metadata": {},
   "outputs": [],
   "source": [
    "# Define a custom ensemble model\n",
    "class EnsembleModel(PythonModel):\n",
    "    def __init__(self, models, weights=None):\n",
    "        self.models = models\n",
    "        self.weights = weights if weights is not None else [1 / len(models)] * len(models)\n",
    "\n",
    "    def predict(self, context, model_input):\n",
    "        # Get predictions from each model\n",
    "        predictions = []\n",
    "        for model in self.models:\n",
    "            pred_proba = model.predict_proba(model_input)\n",
    "            predictions.append(pred_proba)\n",
    "\n",
    "        # Weighted average of predictions\n",
    "        weighted_preds = np.zeros_like(predictions[0])\n",
    "        for i, pred in enumerate(predictions):\n",
    "            weighted_preds += pred * self.weights[i]\n",
    "\n",
    "        # Return class with highest probability\n",
    "        return np.argmax(weighted_preds, axis=1)"
   ]
  },
  {
   "cell_type": "code",
   "execution_count": null,
   "metadata": {},
   "outputs": [],
   "source": [
    "# Create the ensemble\n",
    "ensemble = EnsembleModel(models=[rf_model, lr_model], weights=[0.7, 0.3])\n",
    "\n",
    "# Log the ensemble model\n",
    "with mlflow.start_run():\n",
    "    mlflow.pyfunc.log_model(name=\"ensemble_model\", python_model=ensemble)"
   ]
  }
 ],
 "metadata": {
  "kernelspec": {
   "display_name": "Python 3",
   "language": "python",
   "name": "python3"
  },
  "language_info": {
   "codemirror_mode": {
    "name": "ipython",
    "version": 3
   },
   "file_extension": ".py",
   "mimetype": "text/x-python",
   "name": "python",
   "nbconvert_exporter": "python",
   "pygments_lexer": "ipython3",
   "version": "3.8.13"
  }
 },
 "nbformat": 4,
 "nbformat_minor": 4
}